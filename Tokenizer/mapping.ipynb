{
 "cells": [
  {
   "cell_type": "code",
   "execution_count": 36,
   "metadata": {},
   "outputs": [],
   "source": [
    "from transformers import CLIPTokenizer, CLIPTextModel, GPT2Tokenizer\n",
    "import torch\n",
    "import tokenizations\n",
    "\n",
    "# Initialize the CLIPTokenizer and CLIPTextModel\n",
    "clip_tokenizer = CLIPTokenizer.from_pretrained(\"stabilityai/stable-diffusion-2-1\", subfolder=\"tokenizer\")\n",
    "clip_model = CLIPTextModel.from_pretrained(\"stabilityai/stable-diffusion-2-1\", subfolder=\"text_encoder\")\n",
    "gpt_tokenizer = GPT2Tokenizer.from_pretrained(\"gpt2\")\n",
    "\n",
    "clip_embeddings = clip_model.get_input_embeddings().weight\n",
    "gpt_vocab_size = gpt_tokenizer.vocab_size\n"
   ]
  },
  {
   "cell_type": "code",
   "execution_count": 48,
   "metadata": {},
   "outputs": [
    {
     "data": {
      "text/plain": [
       "49408"
      ]
     },
     "execution_count": 48,
     "metadata": {},
     "output_type": "execute_result"
    }
   ],
   "source": [
    "clip_vocab_size"
   ]
  },
  {
   "cell_type": "code",
   "execution_count": 45,
   "metadata": {},
   "outputs": [
    {
     "name": "stdout",
     "output_type": "stream",
     "text": [
      "Prompt: Hello world, this is a test prompt.\n",
      "Recovered Text: hello world, this is a test prompt.\n"
     ]
    }
   ],
   "source": [
    "def get_gpt2_logits(prompt):\n",
    "    # Tokenize the prompt\n",
    "    tokens = gpt_tokenizer.encode(prompt, add_special_tokens=False)\n",
    "\n",
    "    # Create a tensor to hold the one-hot encodings\n",
    "    # Shape: [sequence_length, vocab_size]\n",
    "    one_hot_encodings = torch.zeros((len(tokens), gpt_vocab_size))\n",
    "\n",
    "    # Fill the tensor with one-hot encodings\n",
    "    for i, token_id in enumerate(tokens):\n",
    "        one_hot_encodings[i, token_id] = 1\n",
    "\n",
    "    return one_hot_encodings\n",
    "\n",
    "def recover_text_from_one_hot(one_hot_encodings, tokenizer):\n",
    "    # Get the token IDs from the one-hot encodings\n",
    "    token_ids = one_hot_encodings.argmax(dim=-1).tolist()\n",
    "\n",
    "    # Decode the token IDs to text\n",
    "    text = tokenizer.decode(token_ids)\n",
    "    return text\n",
    "\n",
    "def convert_gpt2_to_clip_onehots(gpt2_onehots, transformation_matrix):\n",
    "    # Assuming transformation_matrix is a sparse tensor\n",
    "    # Perform sparse matrix multiplication\n",
    "    return torch.sparse.mm(gpt2_onehots, transformation_matrix)\n",
    "\n",
    "\n",
    "\n",
    "def create_sparse_transformation_matrix(tokens_gpt2, tokens_clip, a2b, gpt2_vocab_size, clip_vocab_size):\n",
    "    # Prepare indices and values for the sparse matrix\n",
    "    indices = []\n",
    "    values = []\n",
    "    \n",
    "    for gpt2_idx, alignments in enumerate(a2b):\n",
    "        gpt2_token_id = gpt_tokenizer.convert_tokens_to_ids(tokens_gpt2[gpt2_idx])\n",
    "        for clip_idx in alignments:\n",
    "            clip_token_id = clip_tokenizer.convert_tokens_to_ids(tokens_clip[clip_idx])\n",
    "            indices.append([gpt2_token_id, clip_token_id])\n",
    "            values.append(1)  # We set the value to 1 to denote alignment\n",
    "    \n",
    "    # Convert lists to tensors\n",
    "    indices = torch.LongTensor(indices).t()  # Transpose to fit COO format\n",
    "    values = torch.FloatTensor(values)\n",
    "    \n",
    "    # Create sparse tensor\n",
    "    transformation_matrix = torch.sparse.FloatTensor(indices, values, torch.Size([gpt2_vocab_size, clip_vocab_size]))\n",
    "    return transformation_matrix\n",
    "\n",
    "\n",
    "def tokenize_and_align(prompt):\n",
    "    # Tokenize using GPT-2\n",
    "    tokens_gpt2 = gpt_tokenizer.tokenize(prompt)\n",
    "    # Tokenize using Stable Diffusion's CLIPTokenizer\n",
    "    tokens_clip = clip_tokenizer.tokenize(prompt)\n",
    "\n",
    "    # Get token alignments\n",
    "    a2b, b2a = tokenizations.get_alignments(tokens_gpt2, tokens_clip)\n",
    "    \n",
    "    return tokens_gpt2, tokens_clip, a2b, b2a\n",
    "\n",
    "def one_hot_to_embeddings(one_hot_encodings, embeddings):\n",
    "    \"\"\"\n",
    "    Convert one-hot encodings to embeddings by matrix multiplication.\n",
    "    one_hot_encodings: [sequence_length, vocab_size]\n",
    "    embeddings: [vocab_size, embedding_dim]\n",
    "    Returns:\n",
    "    Tensor of shape [sequence_length, embedding_dim]\n",
    "    \"\"\"\n",
    "    return torch.matmul(one_hot_encodings, embeddings)\n",
    "\n",
    "\n",
    "prompt = \"Hello world, this is a test prompt.\"\n",
    "print(\"Prompt:\", prompt)\n",
    "one_hot_gpt2 = get_gpt2_logits(prompt)\n",
    "tokens_gpt2, tokens_clip, a2b, b2a = tokenize_and_align(prompt)\n",
    "gpt2_vocab_size = len(gpt_tokenizer.get_vocab())\n",
    "clip_vocab_size = len(clip_tokenizer.get_vocab())\n",
    "transformation_matrix = create_sparse_transformation_matrix(tokens_gpt2, tokens_clip, a2b, gpt2_vocab_size, clip_vocab_size)\n",
    "one_hot_gpt2 = get_gpt2_logits(prompt)\n",
    "one_hot_clip = convert_gpt2_to_clip_onehots(one_hot_gpt2, transformation_matrix)\n",
    "diffusion_embeddings = one_hot_to_embeddings(one_hot_clip, clip_embeddings)\n",
    "recovered_text = recover_text_from_one_hot(one_hot_clip, clip_tokenizer)\n",
    "print(\"Recovered Text:\", recovered_text)"
   ]
  },
  {
   "cell_type": "code",
   "execution_count": 49,
   "metadata": {},
   "outputs": [
    {
     "name": "stdout",
     "output_type": "stream",
     "text": [
      "Prompt: Hello world, this is a test prompt.\n",
      "Clip Embeddings: tensor([[-1.6637e-02,  5.4449e-03,  4.2239e-03,  ...,  3.2462e-02,\n",
      "         -9.4015e-03,  1.8852e-02],\n",
      "        [-9.8794e-03, -5.0323e-03,  1.4742e-02,  ...,  7.6760e-03,\n",
      "          2.2321e-02,  1.4498e-02],\n",
      "        [ 2.7337e-03,  8.1540e-03,  1.0485e-03,  ...,  3.4531e-03,\n",
      "         -7.6689e-03,  8.9231e-03],\n",
      "        ...,\n",
      "        [ 6.9292e-04,  1.9042e-02, -5.9549e-03,  ...,  1.4582e-02,\n",
      "          1.3604e-05,  4.4173e-04],\n",
      "        [ 3.5429e-03,  7.3188e-03,  2.1683e-03,  ..., -5.9615e-03,\n",
      "          3.2513e-03,  1.5598e-02],\n",
      "        [-3.4026e-03,  4.0675e-03,  2.1787e-03,  ...,  6.9582e-03,\n",
      "          3.9111e-03,  1.4640e-02]], grad_fn=<MmBackward0>)\n"
     ]
    }
   ],
   "source": [
    "from mapping import get_gpt2_logits, map_prompt_to_clip\n",
    "\n",
    "prompt = \"Hello world, this is a test prompt.\"\n",
    "print(\"Prompt:\", prompt)\n",
    "one_hot_gpt2 = get_gpt2_logits(prompt)\n",
    "clip_embeddings = map_prompt_to_clip(one_hot_gpt2)\n",
    "print(\"Clip Embeddings:\", clip_embeddings)"
   ]
  },
  {
   "cell_type": "code",
   "execution_count": 50,
   "metadata": {},
   "outputs": [
    {
     "data": {
      "text/plain": [
       "torch.Size([9, 1024])"
      ]
     },
     "execution_count": 50,
     "metadata": {},
     "output_type": "execute_result"
    }
   ],
   "source": [
    "clip_embeddings.shape"
   ]
  }
 ],
 "metadata": {
  "kernelspec": {
   "display_name": "vlrfashion",
   "language": "python",
   "name": "python3"
  },
  "language_info": {
   "codemirror_mode": {
    "name": "ipython",
    "version": 3
   },
   "file_extension": ".py",
   "mimetype": "text/x-python",
   "name": "python",
   "nbconvert_exporter": "python",
   "pygments_lexer": "ipython3",
   "version": "3.10.14"
  }
 },
 "nbformat": 4,
 "nbformat_minor": 2
}
