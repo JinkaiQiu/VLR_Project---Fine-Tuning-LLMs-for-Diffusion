{
 "cells": [
  {
   "cell_type": "code",
   "execution_count": 1,
   "metadata": {},
   "outputs": [
    {
     "name": "stderr",
     "output_type": "stream",
     "text": [
      "/home/ec2-user/anaconda3/envs/pytorch_p310/lib/python3.10/site-packages/torch/_utils.py:831: UserWarning: TypedStorage is deprecated. It will be removed in the future and UntypedStorage will be the only storage class. This should only matter to you if you are using storages directly.  To access UntypedStorage directly, use tensor.untyped_storage() instead of tensor.storage()\n",
      "  return self.fget.__get__(instance, owner)()\n"
     ]
    }
   ],
   "source": [
    "from load_data import get_sample\n",
    "from PIL import Image\n",
    "from stablediffusion import StableDiffusion\n",
    "import torch\n",
    "from vision_encoder import vision_encoder\n",
    "from llm import ClipCaptionModel, generate_text_with_gumbel_softmax\n",
    "import os\n",
    "from transformers import GPT2Tokenizer, AdamW, CLIPProcessor, CLIPModel\n",
    "import numpy as np\n",
    "from fashion_clip.fashion_clip import FashionCLIP\n",
    "from mapping import get_gpt2_logits, map_prompt_to_clip, recover_text_from_one_hot\n",
    "from custom_clip import CustomCLIPTextModel \n",
    "from torchvision import transforms\n",
    "import random\n",
    "import gc\n",
    "\n",
    "def set_seed(seed):\n",
    "    \"\"\"Set all seeds to make computations deterministic where possible.\"\"\"\n",
    "    random.seed(seed)\n",
    "    np.random.seed(seed)\n",
    "    torch.manual_seed(seed)\n",
    "    torch.cuda.manual_seed_all(seed)  # Seed all GPUs for multi-GPU setups\n",
    "    os.environ['PYTHONHASHSEED'] = str(seed)\n",
    "\n",
    "    # Enable deterministic behavior in PyTorch (may impact performance)\n",
    "    torch.backends.cudnn.deterministic = True\n",
    "    torch.backends.cudnn.benchmark = False\n",
    "\n",
    "set_seed(42)\n",
    "\n",
    "our_clip = CustomCLIPTextModel.from_pretrained(\"stabilityai/stable-diffusion-2-1\", subfolder=\"text_encoder\")\n",
    "sd = StableDiffusion()\n",
    "encoder = vision_encoder()\n",
    "fclip = FashionCLIP('fashion-clip')\n",
    "CPU = torch.device('cpu')\n",
    "device = 'cuda:0' if torch.cuda.is_available() else 'cpu'\n",
    "\n",
    "clip_vit = CLIPModel.from_pretrained(\"openai/clip-vit-base-patch32\")\n",
    "clip_vit.to(device)\n",
    "processor = CLIPProcessor.from_pretrained(\"openai/clip-vit-base-patch32\")\n",
    "\n",
    "for param in clip_vit.parameters():\n",
    "    param.requires_grad = False\n",
    "\n",
    "for param in sd.parameters():\n",
    "    param.requires_grad = False"
   ]
  },
  {
   "cell_type": "code",
   "execution_count": 2,
   "metadata": {},
   "outputs": [],
   "source": [
    "prefix_length = 10\n",
    "current_directory = os.getcwd()\n",
    "save_path = os.path.join(current_directory, \"saved_models\")\n",
    "os.makedirs(save_path, exist_ok=True)\n",
    "\n",
    "model = ClipCaptionModel(prefix_length)\n",
    "model_path = os.path.join(save_path, 'fashion.pt')\n",
    "model.load_state_dict(torch.load(model_path, map_location=CPU)) \n",
    "model = model.eval() \n",
    "model = model.to(device)\n",
    "tokenizer = GPT2Tokenizer.from_pretrained(\"gpt2\")"
   ]
  },
  {
   "cell_type": "code",
   "execution_count": 3,
   "metadata": {},
   "outputs": [],
   "source": [
    "def compute_clip_loss(pil_image, output_tensor):\n",
    "    def prepare_image(image, device, is_tensor=False):\n",
    "        if is_tensor:\n",
    "            # Apply normalization directly to tensor\n",
    "            transform = transforms.Compose([\n",
    "                transforms.Resize((224, 224)),\n",
    "                transforms.Normalize(mean=[0.485, 0.456, 0.406], std=[0.229, 0.224, 0.225])\n",
    "            ])\n",
    "            image = transform(image)  # Assumes image is already a tensor\n",
    "        else:\n",
    "            # Convert PIL Image to tensor and apply transformations\n",
    "            transform = transforms.Compose([\n",
    "                transforms.Resize((224, 224)),\n",
    "                transforms.ToTensor(),\n",
    "                transforms.Normalize(mean=[0.485, 0.456, 0.406], std=[0.229, 0.224, 0.225])\n",
    "            ])\n",
    "            image = transform(image).to(device)\n",
    "        return image.unsqueeze(0)\n",
    "\n",
    "    # Process the PIL image and the output tensor\n",
    "    pil_tensor = prepare_image(pil_image, device)\n",
    "    output_tensor = output_tensor.permute(0, 1, 2)  # Convert to [C, H, W] if not already\n",
    "    output_tensor = prepare_image(output_tensor, device, is_tensor=True)\n",
    "\n",
    "    # Get CLIP features\n",
    "    features_pil = clip_vit.get_image_features(pixel_values=pil_tensor)\n",
    "    features_output = clip_vit.get_image_features(pixel_values=output_tensor)\n",
    "\n",
    "    # Calculate MSE Loss\n",
    "    mse_loss = torch.nn.MSELoss()\n",
    "    loss = mse_loss(features_pil, features_output)\n",
    "\n",
    "    return loss"
   ]
  },
  {
   "cell_type": "code",
   "execution_count": 4,
   "metadata": {},
   "outputs": [],
   "source": [
    "for name, parameter in model.named_parameters():\n",
    "    param.requires_grad = True  # Ensure all parameters are trainable"
   ]
  },
  {
   "cell_type": "code",
   "execution_count": null,
   "metadata": {},
   "outputs": [
    {
     "name": "stderr",
     "output_type": "stream",
     "text": [
      "/home/ec2-user/anaconda3/envs/pytorch_p310/lib/python3.10/site-packages/transformers/optimization.py:521: FutureWarning: This implementation of AdamW is deprecated and will be removed in a future version. Use the PyTorch implementation torch.optim.AdamW instead, or set `no_deprecation_warning=True` to disable this warning\n",
      "  warnings.warn(\n",
      "100%|██████████| 1/1 [00:00<00:00,  1.78it/s]\n"
     ]
    },
    {
     "name": "stdout",
     "output_type": "stream",
     "text": [
      "Prompt: Body in crushed velvet with thin shoulder straps and a narrow crossover fastening at the back. Narrow, adjustable shoulder straps and spaghetti straps at the back. Unlined. The polyester content of the bra is partly recycled. For the matching sweatshirt, search on 02224.2.Fully lined. For other matching sweats\n"
     ]
    },
    {
     "name": "stderr",
     "output_type": "stream",
     "text": [
      "/home/ec2-user/SageMaker/llm_diffusion/mapping.py:59: UserWarning: torch.sparse.SparseTensor(indices, values, shape, *, device=) is deprecated.  Please use torch.sparse_coo_tensor(indices, values, shape, dtype=, device=). (Triggered internally at /opt/conda/conda-bld/pytorch_1696595231861/work/torch/csrc/utils/tensor_new.cpp:605.)\n",
      "  transformation_matrix = torch.sparse.FloatTensor(indices, values, torch.Size([gpt2_vocab_size, clip_vocab_size]))\n"
     ]
    },
    {
     "data": {
      "application/vnd.jupyter.widget-view+json": {
       "model_id": "b8bfd2c970854a28bfdf05ed696d0669",
       "version_major": 2,
       "version_minor": 0
      },
      "text/plain": [
       "  0%|          | 0/1 [00:00<?, ?it/s]"
      ]
     },
     "metadata": {},
     "output_type": "display_data"
    },
    {
     "name": "stderr",
     "output_type": "stream",
     "text": [
      "/home/ec2-user/anaconda3/envs/pytorch_p310/lib/python3.10/site-packages/torchvision/transforms/functional.py:1603: UserWarning: The default value of the antialias parameter of all the resizing transforms (Resize(), RandomResizedCrop(), etc.) will change from None to True in v0.17, in order to be consistent across the PIL and Tensor backends. To suppress this warning, directly pass antialias=True (recommended, future default), antialias=None (current default, which means False for Tensors and True for PIL), or antialias=False (only works on Tensors - PIL will still use antialiasing). This also applies if you are using the inference transforms from the models weights: update the call to weights.transforms(antialias=True).\n",
      "  warnings.warn(\n"
     ]
    },
    {
     "name": "stdout",
     "output_type": "stream",
     "text": [
      "Step 0 Loss: 0.22846709191799164\n",
      "Step 0: Gradients for LLM (model)\n"
     ]
    },
    {
     "name": "stderr",
     "output_type": "stream",
     "text": [
      "100%|██████████| 1/1 [00:00<00:00, 15.39it/s]\n"
     ]
    },
    {
     "name": "stdout",
     "output_type": "stream",
     "text": [
      "Prompt: Body in crushed velvet with thin shoulder straps and a narrow crossover fastening at the back with two pairs of hooks and eyes. A rounded hem. Partly lined in jersey. Unlined. The polyester content of the bodysuits is partly recycled. For matching top dress press-studs, search on 044158.\n"
     ]
    },
    {
     "data": {
      "application/vnd.jupyter.widget-view+json": {
       "model_id": "37bcd888327b44958a11cafad4a9e431",
       "version_major": 2,
       "version_minor": 0
      },
      "text/plain": [
       "  0%|          | 0/1 [00:00<?, ?it/s]"
      ]
     },
     "metadata": {},
     "output_type": "display_data"
    },
    {
     "name": "stdout",
     "output_type": "stream",
     "text": [
      "Step 1 Loss: 0.22850888967514038\n",
      "Step 1: Gradients for LLM (model)\n"
     ]
    },
    {
     "name": "stderr",
     "output_type": "stream",
     "text": [
      "100%|██████████| 1/1 [00:00<00:00, 15.32it/s]\n"
     ]
    },
    {
     "name": "stdout",
     "output_type": "stream",
     "text": [
      "Prompt: Body in crushed velvet with thin shoulder straps and a narrow crossover at the back with a shaping seam at the top. Narrow spaghetti straps, wide shoulder straps and decorative scalloped trim around the hem. Unlined. Unlined. The polyester content of the top layer is partly recycled. For technical reasons, we continue to use\n"
     ]
    },
    {
     "data": {
      "application/vnd.jupyter.widget-view+json": {
       "model_id": "01e8bae14abc444ab5f9a4439176e103",
       "version_major": 2,
       "version_minor": 0
      },
      "text/plain": [
       "  0%|          | 0/1 [00:00<?, ?it/s]"
      ]
     },
     "metadata": {},
     "output_type": "display_data"
    },
    {
     "name": "stdout",
     "output_type": "stream",
     "text": [
      "Step 2 Loss: 0.2284720242023468\n",
      "Step 2: Gradients for LLM (model)\n"
     ]
    },
    {
     "name": "stderr",
     "output_type": "stream",
     "text": [
      "100%|██████████| 1/1 [00:00<00:00, 15.36it/s]\n"
     ]
    },
    {
     "name": "stdout",
     "output_type": "stream",
     "text": [
      "Prompt: Body in crushed velvet with thin sleeves, a concealed zip at the back and narrow shoulder straps at the back. Narrow draping at the top for best fit, and a bell-shaped skirt. Unlined. Unlined. The polyester content of the top layer is partly recycled. For technical reasons, we continue to make\n"
     ]
    },
    {
     "data": {
      "application/vnd.jupyter.widget-view+json": {
       "model_id": "a2d75d1129364b059541ff5e31eb8714",
       "version_major": 2,
       "version_minor": 0
      },
      "text/plain": [
       "  0%|          | 0/1 [00:00<?, ?it/s]"
      ]
     },
     "metadata": {},
     "output_type": "display_data"
    },
    {
     "name": "stdout",
     "output_type": "stream",
     "text": [
      "Step 3 Loss: 0.22846096754074097\n",
      "Step 3: Gradients for LLM (model)\n"
     ]
    },
    {
     "name": "stderr",
     "output_type": "stream",
     "text": [
      "100%|██████████| 1/1 [00:00<00:00, 15.31it/s]\n"
     ]
    },
    {
     "name": "stdout",
     "output_type": "stream",
     "text": [
      "Prompt: Body in crushed velvet with thin sleeves, a concealed zip at the back and narrow shoulder straps at the back. Narrow draping at the top for best fit, and flared skirt with ribbed trims. Unlined. Size 20x27 cm. The top 50.5% of the sales. Super push-up.\n"
     ]
    },
    {
     "data": {
      "application/vnd.jupyter.widget-view+json": {
       "model_id": "47f163c1dec64c0d8ca109008789f041",
       "version_major": 2,
       "version_minor": 0
      },
      "text/plain": [
       "  0%|          | 0/1 [00:00<?, ?it/s]"
      ]
     },
     "metadata": {},
     "output_type": "display_data"
    },
    {
     "name": "stdout",
     "output_type": "stream",
     "text": [
      "Step 4 Loss: 0.22847867012023926\n",
      "Step 4: Gradients for LLM (model)\n"
     ]
    },
    {
     "name": "stderr",
     "output_type": "stream",
     "text": [
      "100%|██████████| 1/1 [00:00<00:00, 15.35it/s]\n"
     ]
    },
    {
     "name": "stdout",
     "output_type": "stream",
     "text": [
      "Prompt: Body in spaghetti velvet with thin sleeves, a concealed zip at the back and narrow shoulder straps at the back. Narrow draping at the top for best fit, a seam under the bust and a rounded hem. Unlined. Unlined. The polyester content of the dress is partly recycled. For more information, see:\n"
     ]
    },
    {
     "data": {
      "application/vnd.jupyter.widget-view+json": {
       "model_id": "9fa30fca63ca4033ac9ae3380fc16eca",
       "version_major": 2,
       "version_minor": 0
      },
      "text/plain": [
       "  0%|          | 0/1 [00:00<?, ?it/s]"
      ]
     },
     "metadata": {},
     "output_type": "display_data"
    },
    {
     "name": "stdout",
     "output_type": "stream",
     "text": [
      "Step 5 Loss: 0.22848455607891083\n",
      "Step 5: Gradients for LLM (model)\n"
     ]
    },
    {
     "name": "stderr",
     "output_type": "stream",
     "text": [
      "100%|██████████| 1/1 [00:00<00:00, 15.26it/s]\n"
     ]
    },
    {
     "name": "stdout",
     "output_type": "stream",
     "text": [
      "Prompt: Body in crushed velvet with thin sleeves, a concealed zip at the back and narrow shoulder straps at the back. Narrow draping at the top for best fit, a seam under the bust and a rounded hem. Unlined. Unlined. Unlined. Unlined. All in the shape of spaghetti. Regular Fit – a\n"
     ]
    },
    {
     "data": {
      "application/vnd.jupyter.widget-view+json": {
       "model_id": "48740a87f8ab4ac997d34a1ce06ac855",
       "version_major": 2,
       "version_minor": 0
      },
      "text/plain": [
       "  0%|          | 0/1 [00:00<?, ?it/s]"
      ]
     },
     "metadata": {},
     "output_type": "display_data"
    },
    {
     "name": "stdout",
     "output_type": "stream",
     "text": [
      "Step 6 Loss: 0.2284753918647766\n",
      "Step 6: Gradients for LLM (model)\n"
     ]
    },
    {
     "name": "stderr",
     "output_type": "stream",
     "text": [
      "100%|██████████| 1/1 [00:00<00:00, 15.36it/s]\n"
     ]
    },
    {
     "name": "stdout",
     "output_type": "stream",
     "text": [
      "Prompt: Body in crushed velvet with thin sleeves, a concealed zip at the back and bell-shaped skirt. Narrow shoulder straps and spaghetti straps at the cuffs. Unlined. Unlined. Soft brushed inside. Lined. The polyester content of the dress is partly recycled. For the matching dress, search on 050 2045\n"
     ]
    },
    {
     "data": {
      "application/vnd.jupyter.widget-view+json": {
       "model_id": "092668710c374138937612ee60d78eef",
       "version_major": 2,
       "version_minor": 0
      },
      "text/plain": [
       "  0%|          | 0/1 [00:00<?, ?it/s]"
      ]
     },
     "metadata": {},
     "output_type": "display_data"
    },
    {
     "name": "stdout",
     "output_type": "stream",
     "text": [
      "Step 7 Loss: 0.22845226526260376\n",
      "Step 7: Gradients for LLM (model)\n"
     ]
    },
    {
     "name": "stderr",
     "output_type": "stream",
     "text": [
      "100%|██████████| 1/1 [00:00<00:00, 15.29it/s]\n"
     ]
    },
    {
     "name": "stdout",
     "output_type": "stream",
     "text": [
      "Prompt: Body in spaghetti straps with thin sleeves, a concealed zip at the back and bell-shaped skirt. Narrow shoulder straps and spaghetti straps at the cuffs. Unlined. Unlined. Soft brushed inside. Lined. The dress has a high waist and medium coverage at the back. Lined at the top. Lined at\n"
     ]
    },
    {
     "data": {
      "application/vnd.jupyter.widget-view+json": {
       "model_id": "c1d282dbdee4436a8c9477e675b350ad",
       "version_major": 2,
       "version_minor": 0
      },
      "text/plain": [
       "  0%|          | 0/1 [00:00<?, ?it/s]"
      ]
     },
     "metadata": {},
     "output_type": "display_data"
    },
    {
     "name": "stdout",
     "output_type": "stream",
     "text": [
      "Step 8 Loss: 0.2284795343875885\n",
      "Step 8: Gradients for LLM (model)\n"
     ]
    },
    {
     "name": "stderr",
     "output_type": "stream",
     "text": [
      "100%|██████████| 1/1 [00:00<00:00, 14.97it/s]\n"
     ]
    },
    {
     "name": "stdout",
     "output_type": "stream",
     "text": [
      "Prompt: Body in spaghetti and soft jersey with spaghetti straps that cross at the back and narrow shoulder straps at the back. Narrow elastication at the waist for a good fit over the tummy, a concealed zip at the back and spaghetti straps at the top. Lined g. Unlined. Jersey underdress. Unlined. Jersey\n"
     ]
    },
    {
     "data": {
      "application/vnd.jupyter.widget-view+json": {
       "model_id": "87bb26683ef34ed5a3f105a430cacc0e",
       "version_major": 2,
       "version_minor": 0
      },
      "text/plain": [
       "  0%|          | 0/1 [00:00<?, ?it/s]"
      ]
     },
     "metadata": {},
     "output_type": "display_data"
    },
    {
     "name": "stdout",
     "output_type": "stream",
     "text": [
      "Step 9 Loss: 0.2284739911556244\n",
      "Step 9: Gradients for LLM (model)\n"
     ]
    },
    {
     "name": "stderr",
     "output_type": "stream",
     "text": [
      "100%|██████████| 1/1 [00:00<00:00, 15.10it/s]\n"
     ]
    },
    {
     "name": "stdout",
     "output_type": "stream",
     "text": [
      "Prompt: Body in spaghetti and soft jersey with spaghetti straps that cross at the back and bell-shaped skirt with a decorative seam at the hem. Narrow shoulder straps, spaghetti straps around the neckline, a seam at the crotch with spaghetti straps at the back and flared skirt. Lined at the front. Lined at the back. Un\n"
     ]
    },
    {
     "data": {
      "application/vnd.jupyter.widget-view+json": {
       "model_id": "d6cb10c35d4a4ac58baf2c7aedb07269",
       "version_major": 2,
       "version_minor": 0
      },
      "text/plain": [
       "  0%|          | 0/1 [00:00<?, ?it/s]"
      ]
     },
     "metadata": {},
     "output_type": "display_data"
    },
    {
     "name": "stdout",
     "output_type": "stream",
     "text": [
      "Step 10 Loss: 0.22845739126205444\n",
      "Step 10: Gradients for LLM (model)\n"
     ]
    },
    {
     "name": "stderr",
     "output_type": "stream",
     "text": [
      "100%|██████████| 1/1 [00:00<00:00, 14.99it/s]\n"
     ]
    },
    {
     "name": "stdout",
     "output_type": "stream",
     "text": [
      "Prompt: Body in spaghetti and soft jersey with spaghetti straps that cross at the back and bell-shaped skirt with a decorative seam at the hem. Narrow shoulder straps, spaghetti straps around the neckline, a seam at the crotch with spaghetti straps at the back and flared skirt. Lined at the front. Lined at the back. Un\n"
     ]
    },
    {
     "data": {
      "application/vnd.jupyter.widget-view+json": {
       "model_id": "c48dc86788c547c8984def5063bb4077",
       "version_major": 2,
       "version_minor": 0
      },
      "text/plain": [
       "  0%|          | 0/1 [00:00<?, ?it/s]"
      ]
     },
     "metadata": {},
     "output_type": "display_data"
    },
    {
     "name": "stdout",
     "output_type": "stream",
     "text": [
      "Step 11 Loss: 0.22845888137817383\n",
      "Step 11: Gradients for LLM (model)\n"
     ]
    },
    {
     "name": "stderr",
     "output_type": "stream",
     "text": [
      "100%|██████████| 1/1 [00:00<00:00, 15.01it/s]\n"
     ]
    },
    {
     "name": "stdout",
     "output_type": "stream",
     "text": [
      "Prompt: Body in spaghetti and soft jersey with spaghetti straps that cross at the back and bell-shaped skirt with a decorative seam at the hem. Narrow shoulder straps, spaghetti straps around the neckline, a seam at the crotch with spaghetti straps at the back and flared skirt. Lined at the front. Lined at the back. Un\n"
     ]
    },
    {
     "data": {
      "application/vnd.jupyter.widget-view+json": {
       "model_id": "ae3bfa836b1844a5be27502c988f1b3f",
       "version_major": 2,
       "version_minor": 0
      },
      "text/plain": [
       "  0%|          | 0/1 [00:00<?, ?it/s]"
      ]
     },
     "metadata": {},
     "output_type": "display_data"
    },
    {
     "name": "stdout",
     "output_type": "stream",
     "text": [
      "Step 12 Loss: 0.2284284383058548\n",
      "Step 12: Gradients for LLM (model)\n"
     ]
    },
    {
     "name": "stderr",
     "output_type": "stream",
     "text": [
      "100%|██████████| 1/1 [00:00<00:00, 15.36it/s]\n"
     ]
    },
    {
     "name": "stdout",
     "output_type": "stream",
     "text": [
      "Prompt: Body in spaghetti and soft jersey with spaghetti straps, a close-fitting, bell-shaped dress with gathers decorative opening at the back and spaghetti straps with ties at the back of the neck. Narrow spaghetti straps at the shoulders and a narrow lace at the waist with a zip at the back and spaghetti straps. Lined mouth with spaghetti\n"
     ]
    },
    {
     "data": {
      "application/vnd.jupyter.widget-view+json": {
       "model_id": "7253881e28334a63a1a4cfcb1f9450dd",
       "version_major": 2,
       "version_minor": 0
      },
      "text/plain": [
       "  0%|          | 0/1 [00:00<?, ?it/s]"
      ]
     },
     "metadata": {},
     "output_type": "display_data"
    },
    {
     "name": "stdout",
     "output_type": "stream",
     "text": [
      "Step 13 Loss: 0.2284606248140335\n",
      "Step 13: Gradients for LLM (model)\n"
     ]
    },
    {
     "name": "stderr",
     "output_type": "stream",
     "text": [
      "100%|██████████| 1/1 [00:00<00:00, 15.41it/s]\n"
     ]
    },
    {
     "name": "stdout",
     "output_type": "stream",
     "text": [
      "Prompt: Body in spaghetti and soft viscose jersey with a V-neck, pleats and long sleeves with sewn-in turn-ups, a seam at the waist, a flared skirt with ribbed trims, a high cut at the hem and spaghetti straps with lacing at the front and decorative button. Narrow cut at the\n"
     ]
    },
    {
     "data": {
      "application/vnd.jupyter.widget-view+json": {
       "model_id": "af685913c0f94bbfa7f3c5f267852127",
       "version_major": 2,
       "version_minor": 0
      },
      "text/plain": [
       "  0%|          | 0/1 [00:00<?, ?it/s]"
      ]
     },
     "metadata": {},
     "output_type": "display_data"
    },
    {
     "name": "stdout",
     "output_type": "stream",
     "text": [
      "Step 14 Loss: 0.22848445177078247\n",
      "Step 14: Gradients for LLM (model)\n"
     ]
    },
    {
     "name": "stderr",
     "output_type": "stream",
     "text": [
      "100%|██████████| 1/1 [00:00<00:00, 15.31it/s]\n"
     ]
    },
    {
     "name": "stdout",
     "output_type": "stream",
     "text": [
      "Prompt: Body in spaghetti and soft viscose jersey with a V-neck, pleats and long sleeves with sewn-in turn-ups, a seam at the waist, a flared skirt with ribbed trims, a high cut at the hem and spaghetti straps with lacing. All-over print, spaghetti sleeves, a concealed zip\n"
     ]
    },
    {
     "data": {
      "application/vnd.jupyter.widget-view+json": {
       "model_id": "97d056e026c94478bf59bc1e73884bdb",
       "version_major": 2,
       "version_minor": 0
      },
      "text/plain": [
       "  0%|          | 0/1 [00:00<?, ?it/s]"
      ]
     },
     "metadata": {},
     "output_type": "display_data"
    },
    {
     "name": "stdout",
     "output_type": "stream",
     "text": [
      "Step 15 Loss: 0.22847683727741241\n",
      "Step 15: Gradients for LLM (model)\n"
     ]
    },
    {
     "name": "stderr",
     "output_type": "stream",
     "text": [
      "100%|██████████| 1/1 [00:00<00:00, 15.31it/s]\n"
     ]
    },
    {
     "name": "stdout",
     "output_type": "stream",
     "text": [
      "Prompt: Body in spaghetti and soft viscose jersey with a V-neck, pleats and long sleeves with sewn-in turn-ups, a seam at the waist, a flared skirt with ribbed trims, a high cut at the hem and spaghetti straps with lacing at the front and decorative button. Searrow cut at the\n"
     ]
    },
    {
     "data": {
      "application/vnd.jupyter.widget-view+json": {
       "model_id": "f6f8822c6a564ce4a5230d5dc95005b1",
       "version_major": 2,
       "version_minor": 0
      },
      "text/plain": [
       "  0%|          | 0/1 [00:00<?, ?it/s]"
      ]
     },
     "metadata": {},
     "output_type": "display_data"
    },
    {
     "name": "stdout",
     "output_type": "stream",
     "text": [
      "Step 16 Loss: 0.2284729778766632\n",
      "Step 16: Gradients for LLM (model)\n"
     ]
    },
    {
     "name": "stderr",
     "output_type": "stream",
     "text": [
      "100%|██████████| 1/1 [00:00<00:00, 14.98it/s]\n"
     ]
    },
    {
     "name": "stdout",
     "output_type": "stream",
     "text": [
      "Prompt: Body in spaghetti and soft viscose jersey with a V-neck, pleats and long sleeves. Partly lined in jersey, sleeves, seam at the waist and flared skirt. Partly lined in jersey, spaghetti and high cut at the chest. Lined at the top. All-over print, a wide neckline, cut\n"
     ]
    },
    {
     "data": {
      "application/vnd.jupyter.widget-view+json": {
       "model_id": "13834b9c4e614f748babb41a8d8cddc5",
       "version_major": 2,
       "version_minor": 0
      },
      "text/plain": [
       "  0%|          | 0/1 [00:00<?, ?it/s]"
      ]
     },
     "metadata": {},
     "output_type": "display_data"
    },
    {
     "name": "stdout",
     "output_type": "stream",
     "text": [
      "Step 17 Loss: 0.22846901416778564\n",
      "Step 17: Gradients for LLM (model)\n"
     ]
    },
    {
     "name": "stderr",
     "output_type": "stream",
     "text": [
      "100%|██████████| 1/1 [00:00<00:00, 15.30it/s]\n"
     ]
    },
    {
     "name": "stdout",
     "output_type": "stream",
     "text": [
      "Prompt: Body in spaghetti and soft viscose jersey with a V-neck, pleats and raw-edge, frilled collar, spaghetti sleeves, seam at the waist and flared skirt. Partly lined in jersey. Long sleeves with ribbed cuffs and raw-edge hem. Lined. Hat with an integral seam. Lined.\n"
     ]
    },
    {
     "data": {
      "application/vnd.jupyter.widget-view+json": {
       "model_id": "1c79d5fa83e74a58bcb937f3f9bfd892",
       "version_major": 2,
       "version_minor": 0
      },
      "text/plain": [
       "  0%|          | 0/1 [00:00<?, ?it/s]"
      ]
     },
     "metadata": {},
     "output_type": "display_data"
    },
    {
     "name": "stdout",
     "output_type": "stream",
     "text": [
      "Step 18 Loss: 0.22847992181777954\n",
      "Step 18: Gradients for LLM (model)\n"
     ]
    },
    {
     "name": "stderr",
     "output_type": "stream",
     "text": [
      "100%|██████████| 1/1 [00:00<00:00, 15.01it/s]\n"
     ]
    },
    {
     "name": "stdout",
     "output_type": "stream",
     "text": [
      "Prompt: Body in spaghetti and soft viscose jersey with a V-neck, pleats and raw-edge front, opening with covered buttons at the neck and concealed zip in the side. Partly lined in jersey. Long sleeves with ribbed cuffs and raw edges, a zip at the back and seam at the waist. Lined.\n"
     ]
    },
    {
     "data": {
      "application/vnd.jupyter.widget-view+json": {
       "model_id": "e91c4e9e34744f26a9988abf3cca1e48",
       "version_major": 2,
       "version_minor": 0
      },
      "text/plain": [
       "  0%|          | 0/1 [00:00<?, ?it/s]"
      ]
     },
     "metadata": {},
     "output_type": "display_data"
    },
    {
     "name": "stdout",
     "output_type": "stream",
     "text": [
      "Step 19 Loss: 0.22846904397010803\n",
      "Step 19: Gradients for LLM (model)\n"
     ]
    },
    {
     "name": "stderr",
     "output_type": "stream",
     "text": [
      "100%|██████████| 1/1 [00:00<00:00, 15.36it/s]\n"
     ]
    },
    {
     "name": "stdout",
     "output_type": "stream",
     "text": [
      "Prompt: Body in spaghetti and soft viscose jersey with a V-neck, pleats and raw-edge front, opening and draping, and sleeves in a contrasting colour. Partly lined in jersey underdress. Narrow cut at the chest and sleeves, and a zip at the cuffs. Lined. Short shorts. V\n"
     ]
    },
    {
     "data": {
      "application/vnd.jupyter.widget-view+json": {
       "model_id": "89576d2da1e24765be234494dc307e69",
       "version_major": 2,
       "version_minor": 0
      },
      "text/plain": [
       "  0%|          | 0/1 [00:00<?, ?it/s]"
      ]
     },
     "metadata": {},
     "output_type": "display_data"
    },
    {
     "name": "stdout",
     "output_type": "stream",
     "text": [
      "Step 20 Loss: 0.22846822440624237\n",
      "Step 20: Gradients for LLM (model)\n"
     ]
    },
    {
     "name": "stderr",
     "output_type": "stream",
     "text": [
      "100%|██████████| 1/1 [00:00<00:00, 15.38it/s]\n"
     ]
    },
    {
     "name": "stdout",
     "output_type": "stream",
     "text": [
      "Prompt: Body in spaghetti and soft viscose jersey, a V-neck, raw edge and long sleeves. Partly lined in jersey, sleeves, a seam at the waist, skinny legs and jersey ribbing. Satin lining. Satin inset peplum. Leggings and woven inset at the sides. Lined.\n"
     ]
    },
    {
     "data": {
      "application/vnd.jupyter.widget-view+json": {
       "model_id": "89d3ba2f47b94465b63f4776e7fe8c6a",
       "version_major": 2,
       "version_minor": 0
      },
      "text/plain": [
       "  0%|          | 0/1 [00:00<?, ?it/s]"
      ]
     },
     "metadata": {},
     "output_type": "display_data"
    },
    {
     "name": "stdout",
     "output_type": "stream",
     "text": [
      "Step 21 Loss: 0.22844338417053223\n",
      "Step 21: Gradients for LLM (model)\n"
     ]
    },
    {
     "name": "stderr",
     "output_type": "stream",
     "text": [
      "100%|██████████| 1/1 [00:00<00:00, 15.32it/s]\n"
     ]
    },
    {
     "name": "stdout",
     "output_type": "stream",
     "text": [
      "Prompt: Body in spaghetti and soft viscose jersey with a V-neck, raw edge and long sleeves. Partly lined in jersey, sleeves and a wider waist in imitation suede. Partly lined in jersey, slits in the sides and a rounded hem. Partly lined in jersey, short sleeves and a wide neckline. N\n"
     ]
    },
    {
     "data": {
      "application/vnd.jupyter.widget-view+json": {
       "model_id": "c52944a110f3421498f0e89133435edd",
       "version_major": 2,
       "version_minor": 0
      },
      "text/plain": [
       "  0%|          | 0/1 [00:00<?, ?it/s]"
      ]
     },
     "metadata": {},
     "output_type": "display_data"
    },
    {
     "name": "stdout",
     "output_type": "stream",
     "text": [
      "Step 22 Loss: 0.2284146398305893\n",
      "Step 22: Gradients for LLM (model)\n"
     ]
    },
    {
     "name": "stderr",
     "output_type": "stream",
     "text": [
      "100%|██████████| 1/1 [00:00<00:00, 15.35it/s]\n"
     ]
    },
    {
     "name": "stdout",
     "output_type": "stream",
     "text": [
      "Prompt: V-neck jumpsuit in soft, loose-fitting spaghetti V-neck, dress, lightly padded front and back and all-over print. Long sleeves, spaghetti at the front and raw edges at the cuffs and hem. Narrow open at the back, seam at the waist and flared skirt. Partly lined in Bodys\n"
     ]
    },
    {
     "data": {
      "application/vnd.jupyter.widget-view+json": {
       "model_id": "51154a5e7028458ba0ad9f4ec390024e",
       "version_major": 2,
       "version_minor": 0
      },
      "text/plain": [
       "  0%|          | 0/1 [00:00<?, ?it/s]"
      ]
     },
     "metadata": {},
     "output_type": "display_data"
    },
    {
     "name": "stdout",
     "output_type": "stream",
     "text": [
      "Step 23 Loss: 0.22845084965229034\n",
      "Step 23: Gradients for LLM (model)\n"
     ]
    },
    {
     "name": "stderr",
     "output_type": "stream",
     "text": [
      "100%|██████████| 1/1 [00:00<00:00, 15.28it/s]\n"
     ]
    },
    {
     "name": "stdout",
     "output_type": "stream",
     "text": [
      "Prompt: V-neck spaghetti-patterned spaghetti and spaghetti and spaghetti V-neck playsuit, spaghetti bolero shorts, spaghetti cap and spaghetti belt. Long sleeves, spaghetti fly and spaghetti spaghetti fly with a wide tie. Satin lining at the top and spaghetti pleats. Partly lined in spaghetti. V-neck spaghetti shorts, spaghetti\n"
     ]
    },
    {
     "data": {
      "application/vnd.jupyter.widget-view+json": {
       "model_id": "03ac27077916441985c6ce77108cd144",
       "version_major": 2,
       "version_minor": 0
      },
      "text/plain": [
       "  0%|          | 0/1 [00:00<?, ?it/s]"
      ]
     },
     "metadata": {},
     "output_type": "display_data"
    },
    {
     "name": "stdout",
     "output_type": "stream",
     "text": [
      "Step 24 Loss: 0.2284473478794098\n",
      "Step 24: Gradients for LLM (model)\n"
     ]
    },
    {
     "name": "stderr",
     "output_type": "stream",
     "text": [
      "100%|██████████| 1/1 [00:00<00:00, 15.39it/s]\n"
     ]
    },
    {
     "name": "stdout",
     "output_type": "stream",
     "text": [
      "Prompt: V-neck spaghetti spaghetti spaghetti, spaghetti tunic and spaghetti uppers, spaghetti shoulder straps, spaghetti underskirt and spaghetti spaghetti fly. Zip and spaghetti fly, spaghetti shoulder straps and spaghetti spaghetti legs. Scalloped spaghetti sleeves and spaghetti flare. Lined. Leggings and spaghetti straps. Slim fit. For the matching trousers\n"
     ]
    },
    {
     "data": {
      "application/vnd.jupyter.widget-view+json": {
       "model_id": "e983e81f79c949cfbc1b2053a66c2404",
       "version_major": 2,
       "version_minor": 0
      },
      "text/plain": [
       "  0%|          | 0/1 [00:00<?, ?it/s]"
      ]
     },
     "metadata": {},
     "output_type": "display_data"
    },
    {
     "name": "stdout",
     "output_type": "stream",
     "text": [
      "Step 25 Loss: 0.22846481204032898\n",
      "Step 25: Gradients for LLM (model)\n"
     ]
    },
    {
     "name": "stderr",
     "output_type": "stream",
     "text": [
      "100%|██████████| 1/1 [00:00<00:00, 15.05it/s]\n"
     ]
    },
    {
     "name": "stdout",
     "output_type": "stream",
     "text": [
      "Prompt: V-neck spaghetti spaghetti spaghetti tun spaghetti tunic spaghetti spaghetti spaghetti spaghetti tunic spaghetti spaghetti spaghetti tunic spaghetti spaghetti spaghetti tunic spaghetti spaghetti tunic spaghetti tunic spaghetti spaghetti spaghetti spaghetti tunic spaghetti spaghetti tie spaghetti tunic spaghetti tie spaghetti tie spaghetti tunic spaghetti tie spaghetti tunic spaghetti tie spaghetti tunic spaghetti tie spaghetti tunic\n"
     ]
    },
    {
     "data": {
      "application/vnd.jupyter.widget-view+json": {
       "model_id": "ecf31a4838784606a27295b1e2ef449c",
       "version_major": 2,
       "version_minor": 0
      },
      "text/plain": [
       "  0%|          | 0/1 [00:00<?, ?it/s]"
      ]
     },
     "metadata": {},
     "output_type": "display_data"
    },
    {
     "name": "stdout",
     "output_type": "stream",
     "text": [
      "Step 26 Loss: 0.22841820120811462\n",
      "Step 26: Gradients for LLM (model)\n"
     ]
    },
    {
     "name": "stderr",
     "output_type": "stream",
     "text": [
      "100%|██████████| 1/1 [00:00<00:00, 15.38it/s]\n"
     ]
    },
    {
     "name": "stdout",
     "output_type": "stream",
     "text": [
      "Prompt: V-neck spaghetti tunic in spaghetti tunic nylon, spaghetti, spaghetti edge and spaghetti-striped spaghetti sleeves. Detachable spaghetti lin, spaghetti straps, spaghetti straps and spaghetti bellos at the hems. Slim fit. Unlined. 200 denier. Tunic in spaghetti tunic nylon with a zip in one side.\n"
     ]
    },
    {
     "data": {
      "application/vnd.jupyter.widget-view+json": {
       "model_id": "7d92737cd3e7412580f79986bbd5244f",
       "version_major": 2,
       "version_minor": 0
      },
      "text/plain": [
       "  0%|          | 0/1 [00:00<?, ?it/s]"
      ]
     },
     "metadata": {},
     "output_type": "display_data"
    },
    {
     "name": "stdout",
     "output_type": "stream",
     "text": [
      "Step 27 Loss: 0.22844238579273224\n",
      "Step 27: Gradients for LLM (model)\n"
     ]
    },
    {
     "name": "stderr",
     "output_type": "stream",
     "text": [
      "100%|██████████| 1/1 [00:00<00:00, 15.34it/s]\n"
     ]
    },
    {
     "name": "stdout",
     "output_type": "stream",
     "text": [
      "Prompt: V-neck spaghetti tunic in spaghetti tunic nylon, spaghetti fly, spaghetti shoulder straps, spaghetti fly with a bell placket, spaghetti fly and spaghetti flystring, skinny legs and spaghetti shoulder strap. Tapered legs with spaghetti hems and spaghetti fly and spaghetti elbows. Lined at the top, spaghetti wide jersey underskirt\n"
     ]
    },
    {
     "data": {
      "application/vnd.jupyter.widget-view+json": {
       "model_id": "1184a8d967b54f6c8e267bd23fe5eb6f",
       "version_major": 2,
       "version_minor": 0
      },
      "text/plain": [
       "  0%|          | 0/1 [00:00<?, ?it/s]"
      ]
     },
     "metadata": {},
     "output_type": "display_data"
    },
    {
     "name": "stdout",
     "output_type": "stream",
     "text": [
      "Step 28 Loss: 0.22845274209976196\n",
      "Step 28: Gradients for LLM (model)\n"
     ]
    },
    {
     "name": "stderr",
     "output_type": "stream",
     "text": [
      "100%|██████████| 1/1 [00:00<00:00, 15.39it/s]\n"
     ]
    },
    {
     "name": "stdout",
     "output_type": "stream",
     "text": [
      "Prompt: V-neck spaghetti tunic, spaghetti belt, spaghetti belt, spaghetti belt, spaghetti belt, spaghetti belt, spaghetti belt, spaghetti belt, spaghetti belt, spaghetti belt, spaghetti belt, spaghetti belt, spaghetti belt, spaghetti belt, spaghetti belt, spaghetti belt, spaghetti belt, spaghetti belt, spaghetti belt, spaghetti belt, spaghetti belt,\n"
     ]
    },
    {
     "data": {
      "application/vnd.jupyter.widget-view+json": {
       "model_id": "03cad4e5d25c4dbda6f4848efe62fbfe",
       "version_major": 2,
       "version_minor": 0
      },
      "text/plain": [
       "  0%|          | 0/1 [00:00<?, ?it/s]"
      ]
     },
     "metadata": {},
     "output_type": "display_data"
    },
    {
     "name": "stdout",
     "output_type": "stream",
     "text": [
      "Step 29 Loss: 0.22846324741840363\n",
      "Step 29: Gradients for LLM (model)\n"
     ]
    },
    {
     "name": "stderr",
     "output_type": "stream",
     "text": [
      "100%|██████████| 1/1 [00:00<00:00, 15.00it/s]\n"
     ]
    },
    {
     "name": "stdout",
     "output_type": "stream",
     "text": [
      "Prompt: V-neck spaghetti tunic, spaghetti belt, spaghetti belt, spaghetti belt, spaghetti belt, spaghetti belt, spaghetti belt, spaghetti belt, spaghetti belt, spaghetti belt, spaghetti belt, spaghetti belt, spaghetti belt, spaghetti belt, spaghetti belt, spaghetti belt, spaghetti belt, spaghetti belt, spaghetti belt, spaghetti belt, spaghetti belt,\n"
     ]
    },
    {
     "data": {
      "application/vnd.jupyter.widget-view+json": {
       "model_id": "9ac120324fde476aa0293efa89956086",
       "version_major": 2,
       "version_minor": 0
      },
      "text/plain": [
       "  0%|          | 0/1 [00:00<?, ?it/s]"
      ]
     },
     "metadata": {},
     "output_type": "display_data"
    },
    {
     "name": "stdout",
     "output_type": "stream",
     "text": [
      "Step 30 Loss: 0.22846388816833496\n",
      "Step 30: Gradients for LLM (model)\n"
     ]
    },
    {
     "name": "stderr",
     "output_type": "stream",
     "text": [
      "100%|██████████| 1/1 [00:00<00:00, 15.39it/s]\n"
     ]
    },
    {
     "name": "stdout",
     "output_type": "stream",
     "text": [
      "Prompt: V-neck jumps in spaghetti, spaghetti belt, spaghetti belt, spaghetti belt, spaghetti belt, spaghetti belt, spaghetti belt, spaghetti belt, spaghetti belt, spaghetti belt, spaghetti belt, spaghetti belt, spaghetti belt, spaghetti belt, spaghetti belt, spaghetti belt, spaghetti belt, spaghetti belt, spaghetti belt, spaghetti belt, spaghetti belt,\n"
     ]
    },
    {
     "data": {
      "application/vnd.jupyter.widget-view+json": {
       "model_id": "01616c551ace42ba90bc382aa8154701",
       "version_major": 2,
       "version_minor": 0
      },
      "text/plain": [
       "  0%|          | 0/1 [00:00<?, ?it/s]"
      ]
     },
     "metadata": {},
     "output_type": "display_data"
    },
    {
     "name": "stdout",
     "output_type": "stream",
     "text": [
      "Step 31 Loss: 0.228461354970932\n",
      "Step 31: Gradients for LLM (model)\n"
     ]
    },
    {
     "name": "stderr",
     "output_type": "stream",
     "text": [
      "100%|██████████| 1/1 [00:00<00:00, 15.22it/s]\n"
     ]
    },
    {
     "name": "stdout",
     "output_type": "stream",
     "text": [
      "Prompt: V-neck jumpsuit in spaghetti, spaghetti belt, spaghetti belt, spaghetti belt trousers, spaghetti belt with, spaghetti belt trousers, spaghetti belt belt sleeves, spaghetti belt belt belt belt at the waist, spaghetti belt slits in the sides and a zip fly and bell-shaped press-stud, spaghetti belt belt wide legs and spaghetti belt\n"
     ]
    },
    {
     "data": {
      "application/vnd.jupyter.widget-view+json": {
       "model_id": "aeacbb74d7a8474fb3e1a4b127027c07",
       "version_major": 2,
       "version_minor": 0
      },
      "text/plain": [
       "  0%|          | 0/1 [00:00<?, ?it/s]"
      ]
     },
     "metadata": {},
     "output_type": "display_data"
    },
    {
     "name": "stdout",
     "output_type": "stream",
     "text": [
      "Step 32 Loss: 0.22848382592201233\n",
      "Step 32: Gradients for LLM (model)\n"
     ]
    },
    {
     "name": "stderr",
     "output_type": "stream",
     "text": [
      "100%|██████████| 1/1 [00:00<00:00, 15.04it/s]\n"
     ]
    },
    {
     "name": "stdout",
     "output_type": "stream",
     "text": [
      "Prompt: V-neck jumpsuit in spaghetti belt, spaghetti belt belt, spaghetti belt belt belt belt, spaghetti belt belt belt belt, spaghetti belt belt belt, spaghetti belt buckle, skinny-fit belt, spaghetti belt, spaghetti belt buckle, spaghetti belt belt buckle, boxer belt, spaghetti belt belt belt belt, spaghetti belt belt belt buckle, spaghetti\n"
     ]
    },
    {
     "data": {
      "application/vnd.jupyter.widget-view+json": {
       "model_id": "1694964c8d7c4806bebdd31489a23f85",
       "version_major": 2,
       "version_minor": 0
      },
      "text/plain": [
       "  0%|          | 0/1 [00:00<?, ?it/s]"
      ]
     },
     "metadata": {},
     "output_type": "display_data"
    },
    {
     "name": "stdout",
     "output_type": "stream",
     "text": [
      "Step 33 Loss: 0.22841773927211761\n",
      "Step 33: Gradients for LLM (model)\n"
     ]
    },
    {
     "name": "stderr",
     "output_type": "stream",
     "text": [
      "100%|██████████| 1/1 [00:00<00:00, 15.34it/s]\n"
     ]
    },
    {
     "name": "stdout",
     "output_type": "stream",
     "text": [
      "Prompt: V-neck jumpsuit yoga belt, spaghetti belt, spaghetti belt, spaghetti belt belt belt belt belt belt belt belt buckle all-over belt belt, spaghetti fly, spaghetti belt buckle tattoos on the back and fake front pockets, regular waist, spaghetti belt belt and spaghetti belt belt press-studs, back pockets and spaghetti belt belt belt\n"
     ]
    },
    {
     "data": {
      "application/vnd.jupyter.widget-view+json": {
       "model_id": "c96aa562d55142ed9943a0bd8c52c91f",
       "version_major": 2,
       "version_minor": 0
      },
      "text/plain": [
       "  0%|          | 0/1 [00:00<?, ?it/s]"
      ]
     },
     "metadata": {},
     "output_type": "display_data"
    },
    {
     "name": "stdout",
     "output_type": "stream",
     "text": [
      "Step 34 Loss: 0.22845840454101562\n",
      "Step 34: Gradients for LLM (model)\n"
     ]
    },
    {
     "name": "stderr",
     "output_type": "stream",
     "text": [
      "100%|██████████| 1/1 [00:00<00:00, 15.29it/s]\n"
     ]
    },
    {
     "name": "stdout",
     "output_type": "stream",
     "text": [
      "Prompt: V-neck jumpsuit in spaghetti belt, spaghetti belt belt belt, spaghetti belt belt belt belt belt with adjustable press-studs, spaghetti belt belt belt belt belt, skinny belt belt, spaghetti belt belt belt belt belt buckle, spaghetti belt belt belt buckle, spaghetti belt belt belt belt belt belt buckle, spaghetti belt belt buckle buckle,\n"
     ]
    },
    {
     "data": {
      "application/vnd.jupyter.widget-view+json": {
       "model_id": "3d7053c78a7e464bb267cdf6a0a043f6",
       "version_major": 2,
       "version_minor": 0
      },
      "text/plain": [
       "  0%|          | 0/1 [00:00<?, ?it/s]"
      ]
     },
     "metadata": {},
     "output_type": "display_data"
    },
    {
     "name": "stdout",
     "output_type": "stream",
     "text": [
      "Step 35 Loss: 0.22841079533100128\n",
      "Step 35: Gradients for LLM (model)\n"
     ]
    },
    {
     "name": "stderr",
     "output_type": "stream",
     "text": [
      "100%|██████████| 1/1 [00:00<00:00, 15.39it/s]\n"
     ]
    },
    {
     "name": "stdout",
     "output_type": "stream",
     "text": [
      "Prompt:  j3/4-length spaghetti belt belt belt belt belt belt belt belt belt belt belt belt belt belt belt belt belt belt belt belt belt belt belt belt belt belt belt belt belt belt belt belt belt belt belt belt belt belt belt belt belt belt belt belt belt belt belt belt belt belt belt belt belt belt belt belt belt mouth belt,\n"
     ]
    },
    {
     "data": {
      "application/vnd.jupyter.widget-view+json": {
       "model_id": "454b6f21ea3e4a62980ded9a99d8623d",
       "version_major": 2,
       "version_minor": 0
      },
      "text/plain": [
       "  0%|          | 0/1 [00:00<?, ?it/s]"
      ]
     },
     "metadata": {},
     "output_type": "display_data"
    },
    {
     "name": "stdout",
     "output_type": "stream",
     "text": [
      "Step 36 Loss: 0.22834935784339905\n",
      "Step 36: Gradients for LLM (model)\n"
     ]
    },
    {
     "name": "stderr",
     "output_type": "stream",
     "text": [
      "100%|██████████| 1/1 [00:00<00:00, 15.37it/s]\n"
     ]
    },
    {
     "name": "stdout",
     "output_type": "stream",
     "text": [
      "Prompt:  Short shorts in spaghetti belt, spaghetti belt belt belt, spaghetti belt belt belt belt, spaghetti belt belt belt belt belt, spaghetti belt belt belt belt belt, spaghetti belt belt belt belt belt, spaghetti belt belt belt belt belt, spaghetti belt belt belt belt belt, spaghetti belt belt belt belt belt, spaghetti belt belt belt belt belt, spaghetti\n"
     ]
    },
    {
     "data": {
      "application/vnd.jupyter.widget-view+json": {
       "model_id": "151bf672d8574a32aa1fd0632f1eac41",
       "version_major": 2,
       "version_minor": 0
      },
      "text/plain": [
       "  0%|          | 0/1 [00:00<?, ?it/s]"
      ]
     },
     "metadata": {},
     "output_type": "display_data"
    },
    {
     "name": "stdout",
     "output_type": "stream",
     "text": [
      "Step 37 Loss: 0.2283831387758255\n",
      "Step 37: Gradients for LLM (model)\n"
     ]
    },
    {
     "name": "stderr",
     "output_type": "stream",
     "text": [
      "100%|██████████| 1/1 [00:00<00:00, 15.35it/s]\n"
     ]
    },
    {
     "name": "stdout",
     "output_type": "stream",
     "text": [
      "Prompt:  Short shorts in spaghetti belt, spaghetti belt belt belt, spaghetti belt belt belt belt, spaghetti belt belt belt belt belt, spaghetti belt belt belt belt belt, spaghetti belt belt belt belt belt, spaghetti belt belt belt belt belt, spaghetti belt belt belt belt belt, spaghetti belt belt belt belt belt, spaghetti belt belt belt belt belt, spaghetti\n"
     ]
    },
    {
     "data": {
      "application/vnd.jupyter.widget-view+json": {
       "model_id": "c1cc406ecdb6469eb57ab40c47a63c41",
       "version_major": 2,
       "version_minor": 0
      },
      "text/plain": [
       "  0%|          | 0/1 [00:00<?, ?it/s]"
      ]
     },
     "metadata": {},
     "output_type": "display_data"
    },
    {
     "name": "stdout",
     "output_type": "stream",
     "text": [
      "Step 38 Loss: 0.22838282585144043\n",
      "Step 38: Gradients for LLM (model)\n"
     ]
    },
    {
     "name": "stderr",
     "output_type": "stream",
     "text": [
      "100%|██████████| 1/1 [00:00<00:00, 15.40it/s]\n"
     ]
    },
    {
     "name": "stdout",
     "output_type": "stream",
     "text": [
      "Prompt:  Short shorts in spaghetti belt, spaghetti belt belt belt belt belt belt, spaghetti belt belt belt belt belt belt belt belt belt belt belt belt belt belt belt belt belt belt belt belt belt belt belt belt belt belt belt belt belt belt belt belt belt belt belt belt belt belt belt belt belt belt belt belt belt belt belt belt belt mouth belt,\n"
     ]
    },
    {
     "data": {
      "application/vnd.jupyter.widget-view+json": {
       "model_id": "c1de425d23b54ffb99bf0dc0c5db8f4f",
       "version_major": 2,
       "version_minor": 0
      },
      "text/plain": [
       "  0%|          | 0/1 [00:00<?, ?it/s]"
      ]
     },
     "metadata": {},
     "output_type": "display_data"
    },
    {
     "name": "stdout",
     "output_type": "stream",
     "text": [
      "Step 39 Loss: 0.22835911810398102\n",
      "Step 39: Gradients for LLM (model)\n"
     ]
    },
    {
     "name": "stderr",
     "output_type": "stream",
     "text": [
      "100%|██████████| 1/1 [00:00<00:00, 15.24it/s]\n"
     ]
    },
    {
     "name": "stdout",
     "output_type": "stream",
     "text": [
      "Prompt:  Short shorts in spaghetti belt belt, spaghetti belt belt, spaghetti belt, spaghetti belt belt belt, spaghetti belt belt belt, spaghetti belt, belt belt, spaghetti belt, spaghetti belt, spaghetti belt, spaghetti belt, spaghetti belt, spaghetti belt, spaghetti belt, spaghetti belt, spaghetti belt, spaghetti belt, spaghetti belt, spaghetti belt, spaghetti\n"
     ]
    },
    {
     "data": {
      "application/vnd.jupyter.widget-view+json": {
       "model_id": "e31ecd176f924a278de6e5be51c22725",
       "version_major": 2,
       "version_minor": 0
      },
      "text/plain": [
       "  0%|          | 0/1 [00:00<?, ?it/s]"
      ]
     },
     "metadata": {},
     "output_type": "display_data"
    },
    {
     "name": "stdout",
     "output_type": "stream",
     "text": [
      "Step 40 Loss: 0.22842176258563995\n",
      "Step 40: Gradients for LLM (model)\n"
     ]
    },
    {
     "name": "stderr",
     "output_type": "stream",
     "text": [
      "100%|██████████| 1/1 [00:00<00:00, 15.24it/s]\n"
     ]
    },
    {
     "name": "stdout",
     "output_type": "stream",
     "text": [
      "Prompt:  Short shorts in spaghetti belt belt, spaghetti belt belt, spaghetti belt, spaghetti belt belt belt, spaghetti belt belt belt, spaghetti belt, spaghetti belt, spaghetti belt, spaghetti belt, spaghetti belt, spaghetti belt, spaghetti belt, spaghetti belt, spaghetti belt, spaghetti belt, spaghetti belt, spaghetti belt, spaghetti belt, spaghetti belt, spaghetti\n"
     ]
    },
    {
     "data": {
      "application/vnd.jupyter.widget-view+json": {
       "model_id": "44f3ef05d8d341cea0a3b0bc83f89d71",
       "version_major": 2,
       "version_minor": 0
      },
      "text/plain": [
       "  0%|          | 0/1 [00:00<?, ?it/s]"
      ]
     },
     "metadata": {},
     "output_type": "display_data"
    },
    {
     "name": "stdout",
     "output_type": "stream",
     "text": [
      "Step 41 Loss: 0.22842815518379211\n",
      "Step 41: Gradients for LLM (model)\n"
     ]
    },
    {
     "name": "stderr",
     "output_type": "stream",
     "text": [
      "100%|██████████| 1/1 [00:00<00:00, 15.28it/s]\n"
     ]
    },
    {
     "name": "stdout",
     "output_type": "stream",
     "text": [
      "Prompt:  V top jumpsuit belt belt belt belt belt belt belt belt belt belt belt belt belt belt belt belt belt belt belt belt belt belt belt belt belt belt belt belt belt belt belt belt belt belt belt belt belt belt belt belt belt belt belt belt belt belt belt belt belt belt belt belt belt belt belt belt belt belt belt belt mouth belt belt\n"
     ]
    },
    {
     "data": {
      "application/vnd.jupyter.widget-view+json": {
       "model_id": "e05a09e1449941008bf2aea1f7cf5c64",
       "version_major": 2,
       "version_minor": 0
      },
      "text/plain": [
       "  0%|          | 0/1 [00:00<?, ?it/s]"
      ]
     },
     "metadata": {},
     "output_type": "display_data"
    },
    {
     "name": "stdout",
     "output_type": "stream",
     "text": [
      "Step 42 Loss: 0.2283647060394287\n",
      "Step 42: Gradients for LLM (model)\n"
     ]
    },
    {
     "name": "stderr",
     "output_type": "stream",
     "text": [
      "100%|██████████| 1/1 [00:00<00:00, 15.37it/s]\n"
     ]
    },
    {
     "name": "stdout",
     "output_type": "stream",
     "text": [
      "Prompt:  V top jumpsuit belt belt belt belt belt belt belt belt belt belt belt belt belt belt belt belt belt belt belt belt belt belt belt belt belt belt belt belt belt belt belt belt belt belt belt belt belt belt belt belt belt belt belt belt belt belt belt belt belt belt belt belt belt belt belt belt belt belt belt belt belt belt belt\n"
     ]
    },
    {
     "data": {
      "application/vnd.jupyter.widget-view+json": {
       "model_id": "3cdb638db7054b15bf11b613f3c72f41",
       "version_major": 2,
       "version_minor": 0
      },
      "text/plain": [
       "  0%|          | 0/1 [00:00<?, ?it/s]"
      ]
     },
     "metadata": {},
     "output_type": "display_data"
    },
    {
     "name": "stdout",
     "output_type": "stream",
     "text": [
      "Step 43 Loss: 0.2283623218536377\n",
      "Step 43: Gradients for LLM (model)\n"
     ]
    },
    {
     "name": "stderr",
     "output_type": "stream",
     "text": [
      "100%|██████████| 1/1 [00:00<00:00, 15.02it/s]\n"
     ]
    },
    {
     "name": "stdout",
     "output_type": "stream",
     "text": [
      "Prompt:  Short top jumpsuit belt belt belt belt belt belt belt belt belt belt belt belt belt belt belt belt belt belt belt belt belt belt belt belt belt belt belt belt belt belt belt belt belt belt belt belt belt belt belt belt belt belt belt belt belt belt belt belt belt belt belt belt belt belt belt belt belt belt belt belt belt belt belt\n"
     ]
    },
    {
     "data": {
      "application/vnd.jupyter.widget-view+json": {
       "model_id": "17b2e76ee4264f33b6dc94e9faa54aa5",
       "version_major": 2,
       "version_minor": 0
      },
      "text/plain": [
       "  0%|          | 0/1 [00:00<?, ?it/s]"
      ]
     },
     "metadata": {},
     "output_type": "display_data"
    },
    {
     "name": "stdout",
     "output_type": "stream",
     "text": [
      "Step 44 Loss: 0.22837141156196594\n",
      "Step 44: Gradients for LLM (model)\n"
     ]
    },
    {
     "name": "stderr",
     "output_type": "stream",
     "text": [
      "100%|██████████| 1/1 [00:00<00:00, 15.39it/s]\n"
     ]
    },
    {
     "name": "stdout",
     "output_type": "stream",
     "text": [
      "Prompt:  Short shorts in spaghetti belt belt, spaghetti belt belt belt belt belt belt belt belt belt belt belt belt belt belt belt belt belt belt belt belt belt belt belt belt belt belt belt belt belt belt belt belt belt belt belt belt belt belt belt belt belt belt belt belt belt belt belt belt belt belt belt belt belt belt belt belt belt belt belt\n"
     ]
    },
    {
     "data": {
      "application/vnd.jupyter.widget-view+json": {
       "model_id": "79c36d8729cf4eb5b3187a76c83d6b8a",
       "version_major": 2,
       "version_minor": 0
      },
      "text/plain": [
       "  0%|          | 0/1 [00:00<?, ?it/s]"
      ]
     },
     "metadata": {},
     "output_type": "display_data"
    },
    {
     "name": "stdout",
     "output_type": "stream",
     "text": [
      "Step 45 Loss: 0.22835510969161987\n",
      "Step 45: Gradients for LLM (model)\n"
     ]
    },
    {
     "name": "stderr",
     "output_type": "stream",
     "text": [
      "100%|██████████| 1/1 [00:00<00:00, 15.29it/s]\n"
     ]
    },
    {
     "name": "stdout",
     "output_type": "stream",
     "text": [
      "Prompt:  Short shorts in spaghetti belt belt, spaghetti belt belt belt belt belt belt belt belt belt belt belt belt belt belt belt belt belt belt belt belt belt belt belt belt belt belt belt belt belt belt belt belt belt belt belt belt belt belt belt belt belt belt belt belt belt belt belt belt belt belt belt belt belt belt belt belt belt belt belt\n"
     ]
    },
    {
     "data": {
      "application/vnd.jupyter.widget-view+json": {
       "model_id": "6c9446fa786644829230b1778ea94d11",
       "version_major": 2,
       "version_minor": 0
      },
      "text/plain": [
       "  0%|          | 0/1 [00:00<?, ?it/s]"
      ]
     },
     "metadata": {},
     "output_type": "display_data"
    },
    {
     "name": "stdout",
     "output_type": "stream",
     "text": [
      "Step 46 Loss: 0.22835777699947357\n",
      "Step 46: Gradients for LLM (model)\n"
     ]
    },
    {
     "name": "stderr",
     "output_type": "stream",
     "text": [
      "100%|██████████| 1/1 [00:00<00:00, 15.35it/s]\n"
     ]
    },
    {
     "name": "stdout",
     "output_type": "stream",
     "text": [
      "Prompt:  Short shorts in spaghetti belt belt, spaghetti belt belt belt belt belt belt belt belt belt belt belt belt belt belt belt belt belt belt belt belt belt belt belt belt belt belt belt belt belt belt belt belt belt belt belt belt belt belt belt belt belt belt belt belt belt belt belt belt belt belt belt belt belt belt belt belt belt belt belt\n"
     ]
    },
    {
     "data": {
      "application/vnd.jupyter.widget-view+json": {
       "model_id": "6a6ee63cfac443058ec8a29f4babfcfe",
       "version_major": 2,
       "version_minor": 0
      },
      "text/plain": [
       "  0%|          | 0/1 [00:00<?, ?it/s]"
      ]
     },
     "metadata": {},
     "output_type": "display_data"
    },
    {
     "name": "stdout",
     "output_type": "stream",
     "text": [
      "Step 47 Loss: 0.22835668921470642\n",
      "Step 47: Gradients for LLM (model)\n"
     ]
    },
    {
     "name": "stderr",
     "output_type": "stream",
     "text": [
      "100%|██████████| 1/1 [00:00<00:00, 15.39it/s]\n"
     ]
    },
    {
     "name": "stdout",
     "output_type": "stream",
     "text": [
      "Prompt:  Short shorts in spaghetti belt belt, spaghetti belt belt belt belt belt belt belt belt belt belt belt belt belt belt belt belt belt belt belt belt belt belt belt belt belt belt belt belt belt belt belt belt belt belt belt belt belt belt belt belt belt belt belt belt belt belt belt belt belt belt belt belt belt belt belt belt belt belt belt\n"
     ]
    },
    {
     "data": {
      "application/vnd.jupyter.widget-view+json": {
       "model_id": "548a52250acb496c97ac7a8dc02dd52b",
       "version_major": 2,
       "version_minor": 0
      },
      "text/plain": [
       "  0%|          | 0/1 [00:00<?, ?it/s]"
      ]
     },
     "metadata": {},
     "output_type": "display_data"
    },
    {
     "name": "stdout",
     "output_type": "stream",
     "text": [
      "Step 48 Loss: 0.22835686802864075\n",
      "Step 48: Gradients for LLM (model)\n"
     ]
    },
    {
     "name": "stderr",
     "output_type": "stream",
     "text": [
      "100%|██████████| 1/1 [00:00<00:00, 15.38it/s]\n"
     ]
    },
    {
     "name": "stdout",
     "output_type": "stream",
     "text": [
      "Prompt:  Short shorts in spaghetti belt belt, spaghetti belt belt belt belt belt belt belt belt belt belt belt belt belt belt belt belt belt belt belt belt belt belt belt belt belt belt belt belt belt belt belt belt belt belt belt belt belt belt belt belt belt belt belt belt belt belt belt belt belt belt belt belt belt belt belt belt belt belt belt\n"
     ]
    },
    {
     "data": {
      "application/vnd.jupyter.widget-view+json": {
       "model_id": "58e1465eabdd46ed833879bb70623415",
       "version_major": 2,
       "version_minor": 0
      },
      "text/plain": [
       "  0%|          | 0/1 [00:00<?, ?it/s]"
      ]
     },
     "metadata": {},
     "output_type": "display_data"
    },
    {
     "name": "stdout",
     "output_type": "stream",
     "text": [
      "Step 49 Loss: 0.22835630178451538\n",
      "Step 49: Gradients for LLM (model)\n"
     ]
    },
    {
     "name": "stderr",
     "output_type": "stream",
     "text": [
      "100%|██████████| 1/1 [00:00<00:00, 15.38it/s]\n"
     ]
    }
   ],
   "source": [
    "# Set up the optimizer with only those parameters that need to be updated\n",
    "optimizer = AdamW(filter(lambda p: p.requires_grad, model.parameters()), lr=5e-5)\n",
    "\n",
    "# Example loop for processing and training\n",
    "num_training_steps = 100\n",
    "for step in range(num_training_steps):\n",
    "    pil_image, row = get_sample(0)\n",
    "\n",
    "    # Encode images and prepare embeddings\n",
    "    image_embeddings = fclip.encode_images([pil_image], batch_size=1)\n",
    "    image_embeddings /= np.linalg.norm(image_embeddings, ord=2, axis=-1, keepdims=True)\n",
    "    image_embeddings = torch.tensor(image_embeddings, device=device, dtype=torch.float32)\n",
    "\n",
    "    # Ensure gradients are computed for embeddings part\n",
    "    image_embeddings.requires_grad_(True)\n",
    "\n",
    "    prefix_embed = model.clip_project(image_embeddings).reshape(1, prefix_length, -1)\n",
    "    set_seed(42)\n",
    "    out, soft_tokens_list = generate_text_with_gumbel_softmax(model, tokenizer, embed=prefix_embed, temperature=0.1)\n",
    "    \n",
    "    print(f\"Prompt: {out}\")\n",
    "\n",
    "    combined_softmax_outputs = torch.cat(soft_tokens_list, dim=0)\n",
    "    tokens, attention_mask, input_ids, out_prompt = map_prompt_to_clip(combined_softmax_outputs)\n",
    "    token_embeddings = our_clip(inputs_embeds=tokens.unsqueeze(0), attention_mask=attention_mask, input_ids = input_ids.unsqueeze(0))[0]\n",
    "    sd.requires_grad_(False)\n",
    "    output = sd([out_prompt], tokens=token_embeddings.to(device), num_inference_steps=1)\n",
    "    loss = compute_clip_loss(pil_image, output)\n",
    "    optimizer.zero_grad()\n",
    "    loss.backward()\n",
    "    optimizer.step()\n",
    "    \n",
    "    print(f\"Step {step} Loss: {loss.item()}\")\n",
    "    \n",
    "    del pil_image, row, image_embeddings, prefix_embed, out, combined_softmax_outputs, tokens, attention_mask, input_ids, token_embeddings, output, loss\n",
    "    torch.cuda.empty_cache()  # Clear CUDA cache\n",
    "    gc.collect()\n",
    "    \n",
    "    print(f\"Step {step}: Gradients for LLM (model)\")\n"
   ]
  },
  {
   "cell_type": "code",
   "execution_count": null,
   "metadata": {},
   "outputs": [],
   "source": [
    "def show_image(output):\n",
    "    output_image = (output.permute(1, 2, 0) * 255).to(torch.uint8).cpu().numpy()\n",
    "    output_image = Image.fromarray(output_image)\n",
    "    output_image.show()\n",
    "\n",
    "show_image(output)"
   ]
  },
  {
   "cell_type": "code",
   "execution_count": null,
   "metadata": {},
   "outputs": [],
   "source": [
    "import torch\n",
    "\n",
    "# Ensure CUDA is available\n",
    "if torch.cuda.is_available():\n",
    "    # Select your CUDA device, generally 0 by default for single-GPU setups\n",
    "    device = torch.device('cuda:0')\n",
    "    \n",
    "    # Get GPU details\n",
    "    total_memory = torch.cuda.get_device_properties(device).total_memory\n",
    "    allocated_memory = torch.cuda.memory_allocated(device)\n",
    "    cached_memory = torch.cuda.memory_reserved(device)\n",
    "    max_allocated_memory = torch.cuda.max_memory_allocated(device)\n",
    "    max_cached_memory = torch.cuda.max_memory_reserved(device)\n",
    "\n",
    "    # Convert bytes to gigabytes for easier interpretation\n",
    "    gb_divisor = 1024**3\n",
    "\n",
    "    print(f\"Total Memory: {total_memory / gb_divisor:.2f} GB\")\n",
    "    print(f\"Allocated Memory: {allocated_memory / gb_divisor:.2f} GB\")\n",
    "    print(f\"Cached Memory: {cached_memory / gb_divisor:.2f} GB\")\n",
    "    print(f\"Max Allocated Memory: {max_allocated_memory / gb_divisor:.2f} GB\")\n",
    "    print(f\"Max Cached Memory: {max_cached_memory / gb_divisor:.2f} GB\")\n",
    "else:\n",
    "    print(\"CUDA is not available. Check your installation or GPU availability.\")\n"
   ]
  }
 ],
 "metadata": {
  "kernelspec": {
   "display_name": "conda_pytorch_p310",
   "language": "python",
   "name": "conda_pytorch_p310"
  },
  "language_info": {
   "codemirror_mode": {
    "name": "ipython",
    "version": 3
   },
   "file_extension": ".py",
   "mimetype": "text/x-python",
   "name": "python",
   "nbconvert_exporter": "python",
   "pygments_lexer": "ipython3",
   "version": "3.10.13"
  }
 },
 "nbformat": 4,
 "nbformat_minor": 2
}
